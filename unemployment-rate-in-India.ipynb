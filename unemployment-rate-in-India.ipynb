{
 "cells": [
  {
   "cell_type": "markdown",
   "id": "ffdddb49",
   "metadata": {},
   "source": [
    "# Analyzing the unemployment rate in India!!"
   ]
  },
  {
   "cell_type": "markdown",
   "id": "b692c900",
   "metadata": {},
   "source": [
    "## Problem:\n",
    "Due to the sharp increase in the unemplyment during covid-19, this project aims to analyze and detect the unemplyment rate in India."
   ]
  },
  {
   "cell_type": "markdown",
   "id": "aee918b8",
   "metadata": {},
   "source": [
    "## Data:\n",
    "The dataset can be found on Kaggle \n",
    "https://www.kaggle.com/datasets/gokulrajkmv/unemployment-in-india/code"
   ]
  },
  {
   "cell_type": "markdown",
   "id": "33a22ec6",
   "metadata": {},
   "source": [
    "## Model building:\n",
    "Since this is a regression problem, we will be using Random Forest Refgressor as the baseline model."
   ]
  },
  {
   "cell_type": "markdown",
   "id": "ab22df79",
   "metadata": {},
   "source": [
    "## Evaluation metrics :\n",
    "we will be using different regression evaluation metrics like RMSE(root mean squared error), MSE(mean squared error), MAE(mean asbolute error), R2 error(R squared error), MAPE (mean absolute percentage error)."
   ]
  },
  {
   "cell_type": "markdown",
   "id": "09bbc79c",
   "metadata": {},
   "source": [
    "## Preparing the tools"
   ]
  },
  {
   "cell_type": "code",
   "execution_count": 62,
   "id": "6a2e5882",
   "metadata": {},
   "outputs": [],
   "source": [
    "#import all the EDA and plotting libraries\n",
    "import pandas as pd\n",
    "import numpy as np\n",
    "import matplotlib.pyplot as plt\n",
    "%matplotlib inline\n",
    "import seaborn as sns\n",
    "\n",
    "#modelling libraries \n",
    "import sklearn\n",
    "from sklearn.ensemble import RandomForestRegressor\n",
    "from sklearn.model_selection import train_test_split\n",
    "\n",
    "#evaluation metrics\n",
    "from sklearn.metrics import r2_score\n",
    "from sklearn.metrics import mean_squared_error\n",
    "from sklearn.metrics import mean_absolute_error\n",
    "from sklearn.metrics import mean_absolute_percentage_error"
   ]
  },
  {
   "cell_type": "code",
   "execution_count": 63,
   "id": "a5d0191d",
   "metadata": {},
   "outputs": [],
   "source": [
    "#load the data \n",
    "df = pd.read_csv(\"C:\\\\Users\\\\aryas\\\\OneDrive\\\\Documents\\\\unemployement rate in india.csv\")"
   ]
  },
  {
   "cell_type": "code",
   "execution_count": 64,
   "id": "f56bfca1",
   "metadata": {},
   "outputs": [
    {
     "data": {
      "text/html": [
       "<div>\n",
       "<style scoped>\n",
       "    .dataframe tbody tr th:only-of-type {\n",
       "        vertical-align: middle;\n",
       "    }\n",
       "\n",
       "    .dataframe tbody tr th {\n",
       "        vertical-align: top;\n",
       "    }\n",
       "\n",
       "    .dataframe thead th {\n",
       "        text-align: right;\n",
       "    }\n",
       "</style>\n",
       "<table border=\"1\" class=\"dataframe\">\n",
       "  <thead>\n",
       "    <tr style=\"text-align: right;\">\n",
       "      <th></th>\n",
       "      <th>Region</th>\n",
       "      <th>Date</th>\n",
       "      <th>Frequency</th>\n",
       "      <th>Estimated Unemployment Rate (%)</th>\n",
       "      <th>Estimated Employed</th>\n",
       "      <th>Estimated Labour Participation Rate (%)</th>\n",
       "      <th>Area</th>\n",
       "    </tr>\n",
       "  </thead>\n",
       "  <tbody>\n",
       "    <tr>\n",
       "      <th>0</th>\n",
       "      <td>Andhra Pradesh</td>\n",
       "      <td>31-05-2019</td>\n",
       "      <td>Monthly</td>\n",
       "      <td>3.65</td>\n",
       "      <td>11999139.0</td>\n",
       "      <td>43.24</td>\n",
       "      <td>Rural</td>\n",
       "    </tr>\n",
       "    <tr>\n",
       "      <th>1</th>\n",
       "      <td>Andhra Pradesh</td>\n",
       "      <td>30-06-2019</td>\n",
       "      <td>Monthly</td>\n",
       "      <td>3.05</td>\n",
       "      <td>11755881.0</td>\n",
       "      <td>42.05</td>\n",
       "      <td>Rural</td>\n",
       "    </tr>\n",
       "    <tr>\n",
       "      <th>2</th>\n",
       "      <td>Andhra Pradesh</td>\n",
       "      <td>31-07-2019</td>\n",
       "      <td>Monthly</td>\n",
       "      <td>3.75</td>\n",
       "      <td>12086707.0</td>\n",
       "      <td>43.50</td>\n",
       "      <td>Rural</td>\n",
       "    </tr>\n",
       "    <tr>\n",
       "      <th>3</th>\n",
       "      <td>Andhra Pradesh</td>\n",
       "      <td>31-08-2019</td>\n",
       "      <td>Monthly</td>\n",
       "      <td>3.32</td>\n",
       "      <td>12285693.0</td>\n",
       "      <td>43.97</td>\n",
       "      <td>Rural</td>\n",
       "    </tr>\n",
       "    <tr>\n",
       "      <th>4</th>\n",
       "      <td>Andhra Pradesh</td>\n",
       "      <td>30-09-2019</td>\n",
       "      <td>Monthly</td>\n",
       "      <td>5.17</td>\n",
       "      <td>12256762.0</td>\n",
       "      <td>44.68</td>\n",
       "      <td>Rural</td>\n",
       "    </tr>\n",
       "  </tbody>\n",
       "</table>\n",
       "</div>"
      ],
      "text/plain": [
       "           Region         Date  Frequency   Estimated Unemployment Rate (%)  \\\n",
       "0  Andhra Pradesh   31-05-2019    Monthly                              3.65   \n",
       "1  Andhra Pradesh   30-06-2019    Monthly                              3.05   \n",
       "2  Andhra Pradesh   31-07-2019    Monthly                              3.75   \n",
       "3  Andhra Pradesh   31-08-2019    Monthly                              3.32   \n",
       "4  Andhra Pradesh   30-09-2019    Monthly                              5.17   \n",
       "\n",
       "    Estimated Employed   Estimated Labour Participation Rate (%)   Area  \n",
       "0           11999139.0                                     43.24  Rural  \n",
       "1           11755881.0                                     42.05  Rural  \n",
       "2           12086707.0                                     43.50  Rural  \n",
       "3           12285693.0                                     43.97  Rural  \n",
       "4           12256762.0                                     44.68  Rural  "
      ]
     },
     "execution_count": 64,
     "metadata": {},
     "output_type": "execute_result"
    }
   ],
   "source": [
    "df.head()"
   ]
  },
  {
   "cell_type": "code",
   "execution_count": 65,
   "id": "8e23da6f",
   "metadata": {},
   "outputs": [
    {
     "name": "stdout",
     "output_type": "stream",
     "text": [
      "<class 'pandas.core.frame.DataFrame'>\n",
      "RangeIndex: 754 entries, 0 to 753\n",
      "Data columns (total 7 columns):\n",
      " #   Column                                    Non-Null Count  Dtype  \n",
      "---  ------                                    --------------  -----  \n",
      " 0   Region                                    740 non-null    object \n",
      " 1    Date                                     740 non-null    object \n",
      " 2    Frequency                                740 non-null    object \n",
      " 3    Estimated Unemployment Rate (%)          740 non-null    float64\n",
      " 4    Estimated Employed                       740 non-null    float64\n",
      " 5    Estimated Labour Participation Rate (%)  740 non-null    float64\n",
      " 6   Area                                      740 non-null    object \n",
      "dtypes: float64(3), object(4)\n",
      "memory usage: 41.4+ KB\n"
     ]
    }
   ],
   "source": [
    "df.info()"
   ]
  },
  {
   "cell_type": "code",
   "execution_count": 66,
   "id": "5276aa66",
   "metadata": {},
   "outputs": [
    {
     "data": {
      "text/html": [
       "<div>\n",
       "<style scoped>\n",
       "    .dataframe tbody tr th:only-of-type {\n",
       "        vertical-align: middle;\n",
       "    }\n",
       "\n",
       "    .dataframe tbody tr th {\n",
       "        vertical-align: top;\n",
       "    }\n",
       "\n",
       "    .dataframe thead th {\n",
       "        text-align: right;\n",
       "    }\n",
       "</style>\n",
       "<table border=\"1\" class=\"dataframe\">\n",
       "  <thead>\n",
       "    <tr style=\"text-align: right;\">\n",
       "      <th></th>\n",
       "      <th>Estimated Unemployment Rate (%)</th>\n",
       "      <th>Estimated Employed</th>\n",
       "      <th>Estimated Labour Participation Rate (%)</th>\n",
       "    </tr>\n",
       "  </thead>\n",
       "  <tbody>\n",
       "    <tr>\n",
       "      <th>count</th>\n",
       "      <td>740.000000</td>\n",
       "      <td>7.400000e+02</td>\n",
       "      <td>740.000000</td>\n",
       "    </tr>\n",
       "    <tr>\n",
       "      <th>mean</th>\n",
       "      <td>11.787946</td>\n",
       "      <td>7.204460e+06</td>\n",
       "      <td>42.630122</td>\n",
       "    </tr>\n",
       "    <tr>\n",
       "      <th>std</th>\n",
       "      <td>10.721298</td>\n",
       "      <td>8.087988e+06</td>\n",
       "      <td>8.111094</td>\n",
       "    </tr>\n",
       "    <tr>\n",
       "      <th>min</th>\n",
       "      <td>0.000000</td>\n",
       "      <td>4.942000e+04</td>\n",
       "      <td>13.330000</td>\n",
       "    </tr>\n",
       "    <tr>\n",
       "      <th>25%</th>\n",
       "      <td>4.657500</td>\n",
       "      <td>1.190404e+06</td>\n",
       "      <td>38.062500</td>\n",
       "    </tr>\n",
       "    <tr>\n",
       "      <th>50%</th>\n",
       "      <td>8.350000</td>\n",
       "      <td>4.744178e+06</td>\n",
       "      <td>41.160000</td>\n",
       "    </tr>\n",
       "    <tr>\n",
       "      <th>75%</th>\n",
       "      <td>15.887500</td>\n",
       "      <td>1.127549e+07</td>\n",
       "      <td>45.505000</td>\n",
       "    </tr>\n",
       "    <tr>\n",
       "      <th>max</th>\n",
       "      <td>76.740000</td>\n",
       "      <td>4.577751e+07</td>\n",
       "      <td>72.570000</td>\n",
       "    </tr>\n",
       "  </tbody>\n",
       "</table>\n",
       "</div>"
      ],
      "text/plain": [
       "        Estimated Unemployment Rate (%)   Estimated Employed  \\\n",
       "count                        740.000000         7.400000e+02   \n",
       "mean                          11.787946         7.204460e+06   \n",
       "std                           10.721298         8.087988e+06   \n",
       "min                            0.000000         4.942000e+04   \n",
       "25%                            4.657500         1.190404e+06   \n",
       "50%                            8.350000         4.744178e+06   \n",
       "75%                           15.887500         1.127549e+07   \n",
       "max                           76.740000         4.577751e+07   \n",
       "\n",
       "        Estimated Labour Participation Rate (%)  \n",
       "count                                740.000000  \n",
       "mean                                  42.630122  \n",
       "std                                    8.111094  \n",
       "min                                   13.330000  \n",
       "25%                                   38.062500  \n",
       "50%                                   41.160000  \n",
       "75%                                   45.505000  \n",
       "max                                   72.570000  "
      ]
     },
     "execution_count": 66,
     "metadata": {},
     "output_type": "execute_result"
    }
   ],
   "source": [
    "#summary statistics\n",
    "df.describe()"
   ]
  },
  {
   "cell_type": "code",
   "execution_count": 67,
   "id": "f07044cb",
   "metadata": {},
   "outputs": [
    {
     "data": {
      "text/plain": [
       "Region                                       object\n",
       " Date                                        object\n",
       " Frequency                                   object\n",
       " Estimated Unemployment Rate (%)            float64\n",
       " Estimated Employed                         float64\n",
       " Estimated Labour Participation Rate (%)    float64\n",
       "Area                                         object\n",
       "dtype: object"
      ]
     },
     "execution_count": 67,
     "metadata": {},
     "output_type": "execute_result"
    }
   ],
   "source": [
    "df.dtypes"
   ]
  },
  {
   "cell_type": "code",
   "execution_count": 68,
   "id": "64f7d316",
   "metadata": {},
   "outputs": [
    {
     "name": "stdout",
     "output_type": "stream",
     "text": [
      "Index(['Region', 'Date', 'Frequency', 'Estimated Unemployment Rate (%)',\n",
      "       'Estimated Employed', 'Estimated Labour Participation Rate (%)',\n",
      "       'Area'],\n",
      "      dtype='object')\n"
     ]
    }
   ],
   "source": [
    "# Remove extra spaces from column names\n",
    "df.columns = df.columns.str.strip()\n",
    "\n",
    "# Print the cleaned column names\n",
    "print(df.columns)"
   ]
  },
  {
   "cell_type": "code",
   "execution_count": 69,
   "id": "11757384",
   "metadata": {},
   "outputs": [
    {
     "data": {
      "text/html": [
       "<div>\n",
       "<style scoped>\n",
       "    .dataframe tbody tr th:only-of-type {\n",
       "        vertical-align: middle;\n",
       "    }\n",
       "\n",
       "    .dataframe tbody tr th {\n",
       "        vertical-align: top;\n",
       "    }\n",
       "\n",
       "    .dataframe thead th {\n",
       "        text-align: right;\n",
       "    }\n",
       "</style>\n",
       "<table border=\"1\" class=\"dataframe\">\n",
       "  <thead>\n",
       "    <tr style=\"text-align: right;\">\n",
       "      <th></th>\n",
       "      <th>Region</th>\n",
       "      <th>Date</th>\n",
       "      <th>Frequency</th>\n",
       "      <th>Estimated Unemployment Rate (%)</th>\n",
       "      <th>Estimated Employed</th>\n",
       "      <th>Estimated Labour Participation Rate (%)</th>\n",
       "      <th>Area</th>\n",
       "    </tr>\n",
       "  </thead>\n",
       "  <tbody>\n",
       "    <tr>\n",
       "      <th>0</th>\n",
       "      <td>Andhra Pradesh</td>\n",
       "      <td>31-05-2019</td>\n",
       "      <td>Monthly</td>\n",
       "      <td>3.65</td>\n",
       "      <td>11999139.0</td>\n",
       "      <td>43.24</td>\n",
       "      <td>Rural</td>\n",
       "    </tr>\n",
       "    <tr>\n",
       "      <th>1</th>\n",
       "      <td>Andhra Pradesh</td>\n",
       "      <td>30-06-2019</td>\n",
       "      <td>Monthly</td>\n",
       "      <td>3.05</td>\n",
       "      <td>11755881.0</td>\n",
       "      <td>42.05</td>\n",
       "      <td>Rural</td>\n",
       "    </tr>\n",
       "    <tr>\n",
       "      <th>2</th>\n",
       "      <td>Andhra Pradesh</td>\n",
       "      <td>31-07-2019</td>\n",
       "      <td>Monthly</td>\n",
       "      <td>3.75</td>\n",
       "      <td>12086707.0</td>\n",
       "      <td>43.50</td>\n",
       "      <td>Rural</td>\n",
       "    </tr>\n",
       "    <tr>\n",
       "      <th>3</th>\n",
       "      <td>Andhra Pradesh</td>\n",
       "      <td>31-08-2019</td>\n",
       "      <td>Monthly</td>\n",
       "      <td>3.32</td>\n",
       "      <td>12285693.0</td>\n",
       "      <td>43.97</td>\n",
       "      <td>Rural</td>\n",
       "    </tr>\n",
       "    <tr>\n",
       "      <th>4</th>\n",
       "      <td>Andhra Pradesh</td>\n",
       "      <td>30-09-2019</td>\n",
       "      <td>Monthly</td>\n",
       "      <td>5.17</td>\n",
       "      <td>12256762.0</td>\n",
       "      <td>44.68</td>\n",
       "      <td>Rural</td>\n",
       "    </tr>\n",
       "  </tbody>\n",
       "</table>\n",
       "</div>"
      ],
      "text/plain": [
       "           Region         Date Frequency  Estimated Unemployment Rate (%)  \\\n",
       "0  Andhra Pradesh   31-05-2019   Monthly                             3.65   \n",
       "1  Andhra Pradesh   30-06-2019   Monthly                             3.05   \n",
       "2  Andhra Pradesh   31-07-2019   Monthly                             3.75   \n",
       "3  Andhra Pradesh   31-08-2019   Monthly                             3.32   \n",
       "4  Andhra Pradesh   30-09-2019   Monthly                             5.17   \n",
       "\n",
       "   Estimated Employed  Estimated Labour Participation Rate (%)   Area  \n",
       "0          11999139.0                                    43.24  Rural  \n",
       "1          11755881.0                                    42.05  Rural  \n",
       "2          12086707.0                                    43.50  Rural  \n",
       "3          12285693.0                                    43.97  Rural  \n",
       "4          12256762.0                                    44.68  Rural  "
      ]
     },
     "execution_count": 69,
     "metadata": {},
     "output_type": "execute_result"
    }
   ],
   "source": [
    "df.head()"
   ]
  },
  {
   "cell_type": "code",
   "execution_count": 70,
   "id": "5527e14f",
   "metadata": {},
   "outputs": [
    {
     "data": {
      "text/plain": [
       "Region                                      object\n",
       "Date                                        object\n",
       "Frequency                                   object\n",
       "Estimated Unemployment Rate (%)            float64\n",
       "Estimated Employed                         float64\n",
       "Estimated Labour Participation Rate (%)    float64\n",
       "Area                                        object\n",
       "dtype: object"
      ]
     },
     "execution_count": 70,
     "metadata": {},
     "output_type": "execute_result"
    }
   ],
   "source": [
    "df.dtypes"
   ]
  },
  {
   "cell_type": "code",
   "execution_count": 71,
   "id": "58bf7020",
   "metadata": {},
   "outputs": [
    {
     "name": "stdout",
     "output_type": "stream",
     "text": [
      "Region                                     14\n",
      "Date                                       14\n",
      "Frequency                                  14\n",
      "Estimated Unemployment Rate (%)            14\n",
      "Estimated Employed                         14\n",
      "Estimated Labour Participation Rate (%)    14\n",
      "Area                                       14\n",
      "dtype: int64\n"
     ]
    }
   ],
   "source": [
    "#check for missing values\n",
    "print(df.isna().sum())"
   ]
  },
  {
   "cell_type": "code",
   "execution_count": 72,
   "id": "84d1a9bb",
   "metadata": {},
   "outputs": [],
   "source": [
    "#fill the categorical values with the mode\n",
    "cat_columns = [\"Region\",\"Date\",\"Frequency\",\"Area\"]\n",
    "for columns in cat_columns:\n",
    "    df[columns]= df[columns].fillna(df[columns].mode()[0])\n",
    "    "
   ]
  },
  {
   "cell_type": "code",
   "execution_count": 73,
   "id": "af08a214",
   "metadata": {},
   "outputs": [
    {
     "data": {
      "text/plain": [
       "Region                                      0\n",
       "Date                                        0\n",
       "Frequency                                   0\n",
       "Estimated Unemployment Rate (%)            14\n",
       "Estimated Employed                         14\n",
       "Estimated Labour Participation Rate (%)    14\n",
       "Area                                        0\n",
       "dtype: int64"
      ]
     },
     "execution_count": 73,
     "metadata": {},
     "output_type": "execute_result"
    }
   ],
   "source": [
    "df.isna().sum()"
   ]
  },
  {
   "cell_type": "code",
   "execution_count": 74,
   "id": "33d3a2a5",
   "metadata": {},
   "outputs": [],
   "source": [
    "#fill the numerical columns with the median\n",
    "num_columns = [\"Estimated Unemployment Rate (%)\",\"Estimated Employed\", \"Estimated Labour Participation Rate (%)\"]\n",
    "for value in num_columns:\n",
    "    df[value] = df[value].fillna(df[value].median())"
   ]
  },
  {
   "cell_type": "code",
   "execution_count": 75,
   "id": "71816ec9",
   "metadata": {},
   "outputs": [
    {
     "data": {
      "text/plain": [
       "Region                                     0\n",
       "Date                                       0\n",
       "Frequency                                  0\n",
       "Estimated Unemployment Rate (%)            0\n",
       "Estimated Employed                         0\n",
       "Estimated Labour Participation Rate (%)    0\n",
       "Area                                       0\n",
       "dtype: int64"
      ]
     },
     "execution_count": 75,
     "metadata": {},
     "output_type": "execute_result"
    }
   ],
   "source": [
    "#now check for missing values\n",
    "df.isna().sum()"
   ]
  },
  {
   "cell_type": "code",
   "execution_count": 76,
   "id": "d56ca4f5",
   "metadata": {},
   "outputs": [
    {
     "data": {
      "text/html": [
       "<div>\n",
       "<style scoped>\n",
       "    .dataframe tbody tr th:only-of-type {\n",
       "        vertical-align: middle;\n",
       "    }\n",
       "\n",
       "    .dataframe tbody tr th {\n",
       "        vertical-align: top;\n",
       "    }\n",
       "\n",
       "    .dataframe thead th {\n",
       "        text-align: right;\n",
       "    }\n",
       "</style>\n",
       "<table border=\"1\" class=\"dataframe\">\n",
       "  <thead>\n",
       "    <tr style=\"text-align: right;\">\n",
       "      <th></th>\n",
       "      <th>Region</th>\n",
       "      <th>Date</th>\n",
       "      <th>Frequency</th>\n",
       "      <th>Estimated Unemployment Rate (%)</th>\n",
       "      <th>Estimated Employed</th>\n",
       "      <th>Estimated Labour Participation Rate (%)</th>\n",
       "      <th>Area</th>\n",
       "    </tr>\n",
       "  </thead>\n",
       "  <tbody>\n",
       "    <tr>\n",
       "      <th>0</th>\n",
       "      <td>Andhra Pradesh</td>\n",
       "      <td>31-05-2019</td>\n",
       "      <td>Monthly</td>\n",
       "      <td>3.65</td>\n",
       "      <td>11999139.0</td>\n",
       "      <td>43.24</td>\n",
       "      <td>Rural</td>\n",
       "    </tr>\n",
       "    <tr>\n",
       "      <th>1</th>\n",
       "      <td>Andhra Pradesh</td>\n",
       "      <td>30-06-2019</td>\n",
       "      <td>Monthly</td>\n",
       "      <td>3.05</td>\n",
       "      <td>11755881.0</td>\n",
       "      <td>42.05</td>\n",
       "      <td>Rural</td>\n",
       "    </tr>\n",
       "    <tr>\n",
       "      <th>2</th>\n",
       "      <td>Andhra Pradesh</td>\n",
       "      <td>31-07-2019</td>\n",
       "      <td>Monthly</td>\n",
       "      <td>3.75</td>\n",
       "      <td>12086707.0</td>\n",
       "      <td>43.50</td>\n",
       "      <td>Rural</td>\n",
       "    </tr>\n",
       "    <tr>\n",
       "      <th>3</th>\n",
       "      <td>Andhra Pradesh</td>\n",
       "      <td>31-08-2019</td>\n",
       "      <td>Monthly</td>\n",
       "      <td>3.32</td>\n",
       "      <td>12285693.0</td>\n",
       "      <td>43.97</td>\n",
       "      <td>Rural</td>\n",
       "    </tr>\n",
       "    <tr>\n",
       "      <th>4</th>\n",
       "      <td>Andhra Pradesh</td>\n",
       "      <td>30-09-2019</td>\n",
       "      <td>Monthly</td>\n",
       "      <td>5.17</td>\n",
       "      <td>12256762.0</td>\n",
       "      <td>44.68</td>\n",
       "      <td>Rural</td>\n",
       "    </tr>\n",
       "  </tbody>\n",
       "</table>\n",
       "</div>"
      ],
      "text/plain": [
       "           Region         Date Frequency  Estimated Unemployment Rate (%)  \\\n",
       "0  Andhra Pradesh   31-05-2019   Monthly                             3.65   \n",
       "1  Andhra Pradesh   30-06-2019   Monthly                             3.05   \n",
       "2  Andhra Pradesh   31-07-2019   Monthly                             3.75   \n",
       "3  Andhra Pradesh   31-08-2019   Monthly                             3.32   \n",
       "4  Andhra Pradesh   30-09-2019   Monthly                             5.17   \n",
       "\n",
       "   Estimated Employed  Estimated Labour Participation Rate (%)   Area  \n",
       "0          11999139.0                                    43.24  Rural  \n",
       "1          11755881.0                                    42.05  Rural  \n",
       "2          12086707.0                                    43.50  Rural  \n",
       "3          12285693.0                                    43.97  Rural  \n",
       "4          12256762.0                                    44.68  Rural  "
      ]
     },
     "execution_count": 76,
     "metadata": {},
     "output_type": "execute_result"
    }
   ],
   "source": [
    "df.head()"
   ]
  },
  {
   "cell_type": "code",
   "execution_count": 77,
   "id": "4fef6e96",
   "metadata": {},
   "outputs": [
    {
     "data": {
      "text/plain": [
       "Region                                      object\n",
       "Date                                        object\n",
       "Frequency                                   object\n",
       "Estimated Unemployment Rate (%)            float64\n",
       "Estimated Employed                         float64\n",
       "Estimated Labour Participation Rate (%)    float64\n",
       "Area                                        object\n",
       "dtype: object"
      ]
     },
     "execution_count": 77,
     "metadata": {},
     "output_type": "execute_result"
    }
   ],
   "source": [
    "df.dtypes"
   ]
  },
  {
   "cell_type": "code",
   "execution_count": 78,
   "id": "d7df6b2f",
   "metadata": {},
   "outputs": [],
   "source": [
    "# Adding Day, Month, and Year\n",
    "df['Date'] = pd.to_datetime(df['Date'])"
   ]
  },
  {
   "cell_type": "code",
   "execution_count": 79,
   "id": "30ee629c",
   "metadata": {},
   "outputs": [
    {
     "data": {
      "text/html": [
       "<div>\n",
       "<style scoped>\n",
       "    .dataframe tbody tr th:only-of-type {\n",
       "        vertical-align: middle;\n",
       "    }\n",
       "\n",
       "    .dataframe tbody tr th {\n",
       "        vertical-align: top;\n",
       "    }\n",
       "\n",
       "    .dataframe thead th {\n",
       "        text-align: right;\n",
       "    }\n",
       "</style>\n",
       "<table border=\"1\" class=\"dataframe\">\n",
       "  <thead>\n",
       "    <tr style=\"text-align: right;\">\n",
       "      <th></th>\n",
       "      <th>Region</th>\n",
       "      <th>Date</th>\n",
       "      <th>Frequency</th>\n",
       "      <th>Estimated Unemployment Rate (%)</th>\n",
       "      <th>Estimated Employed</th>\n",
       "      <th>Estimated Labour Participation Rate (%)</th>\n",
       "      <th>Area</th>\n",
       "    </tr>\n",
       "  </thead>\n",
       "  <tbody>\n",
       "    <tr>\n",
       "      <th>0</th>\n",
       "      <td>Andhra Pradesh</td>\n",
       "      <td>2019-05-31</td>\n",
       "      <td>Monthly</td>\n",
       "      <td>3.65</td>\n",
       "      <td>11999139.0</td>\n",
       "      <td>43.24</td>\n",
       "      <td>Rural</td>\n",
       "    </tr>\n",
       "    <tr>\n",
       "      <th>1</th>\n",
       "      <td>Andhra Pradesh</td>\n",
       "      <td>2019-06-30</td>\n",
       "      <td>Monthly</td>\n",
       "      <td>3.05</td>\n",
       "      <td>11755881.0</td>\n",
       "      <td>42.05</td>\n",
       "      <td>Rural</td>\n",
       "    </tr>\n",
       "    <tr>\n",
       "      <th>2</th>\n",
       "      <td>Andhra Pradesh</td>\n",
       "      <td>2019-07-31</td>\n",
       "      <td>Monthly</td>\n",
       "      <td>3.75</td>\n",
       "      <td>12086707.0</td>\n",
       "      <td>43.50</td>\n",
       "      <td>Rural</td>\n",
       "    </tr>\n",
       "    <tr>\n",
       "      <th>3</th>\n",
       "      <td>Andhra Pradesh</td>\n",
       "      <td>2019-08-31</td>\n",
       "      <td>Monthly</td>\n",
       "      <td>3.32</td>\n",
       "      <td>12285693.0</td>\n",
       "      <td>43.97</td>\n",
       "      <td>Rural</td>\n",
       "    </tr>\n",
       "    <tr>\n",
       "      <th>4</th>\n",
       "      <td>Andhra Pradesh</td>\n",
       "      <td>2019-09-30</td>\n",
       "      <td>Monthly</td>\n",
       "      <td>5.17</td>\n",
       "      <td>12256762.0</td>\n",
       "      <td>44.68</td>\n",
       "      <td>Rural</td>\n",
       "    </tr>\n",
       "  </tbody>\n",
       "</table>\n",
       "</div>"
      ],
      "text/plain": [
       "           Region       Date Frequency  Estimated Unemployment Rate (%)  \\\n",
       "0  Andhra Pradesh 2019-05-31   Monthly                             3.65   \n",
       "1  Andhra Pradesh 2019-06-30   Monthly                             3.05   \n",
       "2  Andhra Pradesh 2019-07-31   Monthly                             3.75   \n",
       "3  Andhra Pradesh 2019-08-31   Monthly                             3.32   \n",
       "4  Andhra Pradesh 2019-09-30   Monthly                             5.17   \n",
       "\n",
       "   Estimated Employed  Estimated Labour Participation Rate (%)   Area  \n",
       "0          11999139.0                                    43.24  Rural  \n",
       "1          11755881.0                                    42.05  Rural  \n",
       "2          12086707.0                                    43.50  Rural  \n",
       "3          12285693.0                                    43.97  Rural  \n",
       "4          12256762.0                                    44.68  Rural  "
      ]
     },
     "execution_count": 79,
     "metadata": {},
     "output_type": "execute_result"
    }
   ],
   "source": [
    "df.head()"
   ]
  },
  {
   "cell_type": "markdown",
   "id": "1ac0583f",
   "metadata": {},
   "source": [
    "### EDA (Exploratory Data Analysis)"
   ]
  },
  {
   "cell_type": "code",
   "execution_count": 80,
   "id": "02e7b2d3",
   "metadata": {},
   "outputs": [
    {
     "data": {
      "image/png": "[encoded data removed]",
      "text/plain": [
       "<Figure size 864x576 with 1 Axes>"
      ]
     },
     "metadata": {
      "needs_background": "light"
     },
     "output_type": "display_data"
    }
   ],
   "source": [
    "#visualizing the estimated unemployment rate over time\n",
    "plt.figure(figsize = (12,8))\n",
    "sns.lineplot(x= df[\"Date\"], y=df[\"Estimated Unemployment Rate (%)\"], data=df, marker=\".\")\n",
    "plt.title(\"Distribution of the Estimated Unemployment Rate in India\")\n",
    "plt.show()"
   ]
  },
  {
   "cell_type": "code",
   "execution_count": 81,
   "id": "521967b3",
   "metadata": {},
   "outputs": [
    {
     "data": {
      "image/png": "[encoded data removed]",
      "text/plain": [
       "<Figure size 1440x1008 with 1 Axes>"
      ]
     },
     "metadata": {
      "needs_background": "light"
     },
     "output_type": "display_data"
    }
   ],
   "source": [
    "#distribution of the region\n",
    "plt.figure(figsize = (20,14))\n",
    "sns.countplot(x= df[\"Region\"], data =df, palette=\"icefire\")\n",
    "plt.title(\"Distribution of the Region\")\n",
    "plt.xticks(rotation = 45)\n",
    "plt.show()"
   ]
  },
  {
   "cell_type": "code",
   "execution_count": 82,
   "id": "5f83e809",
   "metadata": {},
   "outputs": [
    {
     "data": {
      "image/png": "[encoded data removed]",
      "text/plain": [
       "<Figure size 720x576 with 1 Axes>"
      ]
     },
     "metadata": {
      "needs_background": "light"
     },
     "output_type": "display_data"
    }
   ],
   "source": [
    "#distribution of frequency\n",
    "plt.figure(figsize = (10,8))\n",
    "sns.histplot(df[\"Frequency\"], bins=20, kde=True, color=[\"purple\"])\n",
    "plt.title(\"Distribution of the Frequency\")\n",
    "plt.show()"
   ]
  },
  {
   "cell_type": "code",
   "execution_count": 83,
   "id": "d20eb84c",
   "metadata": {},
   "outputs": [
    {
     "data": {
      "image/png": "[encoded data removed]",
      "text/plain": [
       "<Figure size 720x432 with 1 Axes>"
      ]
     },
     "metadata": {
      "needs_background": "light"
     },
     "output_type": "display_data"
    }
   ],
   "source": [
    "#distribution of the Area\n",
    "plt.figure(figsize = (10,6))\n",
    "sns.histplot(data=df, x=df[\"Area\"], hue=\"Area\")\n",
    "plt.title(\"Distribution of Area\")\n",
    "plt.show()"
   ]
  },
  {
   "cell_type": "code",
   "execution_count": 84,
   "id": "00579b41",
   "metadata": {},
   "outputs": [
    {
     "data": {
      "image/png": "[encoded data removed]",
      "text/plain": [
       "<Figure size 720x432 with 1 Axes>"
      ]
     },
     "metadata": {
      "needs_background": "light"
     },
     "output_type": "display_data"
    }
   ],
   "source": [
    "#distribution of Estimated labour participatione\n",
    "plt.figure(figsize = (10,6))\n",
    "sns.histplot(x=df[\"Estimated Labour Participation Rate (%)\"], color =[\"darkgreen\"])\n",
    "plt.xticks(rotation = 1)\n",
    "plt.title(\"Distribution of the estimated labour participation rate\")\n",
    "plt.show()"
   ]
  },
  {
   "cell_type": "code",
   "execution_count": 85,
   "id": "90b7da93",
   "metadata": {},
   "outputs": [
    {
     "data": {
      "image/png": "[encoded data removed]",
      "text/plain": [
       "<Figure size 720x432 with 1 Axes>"
      ]
     },
     "metadata": {
      "needs_background": "light"
     },
     "output_type": "display_data"
    }
   ],
   "source": [
    "#distribution of the estimated employed\n",
    "plt.figure(figsize = (10,6))\n",
    "sns.histplot(df[\"Estimated Employed\"], color = \"maroon\", kde=True)\n",
    "plt.title(\"Distribution of the Estimated Employed\")\n",
    "plt.show()"
   ]
  },
  {
   "cell_type": "code",
   "execution_count": 86,
   "id": "ba2bfd32",
   "metadata": {},
   "outputs": [
    {
     "data": {
      "text/html": [
       "<div>\n",
       "<style scoped>\n",
       "    .dataframe tbody tr th:only-of-type {\n",
       "        vertical-align: middle;\n",
       "    }\n",
       "\n",
       "    .dataframe tbody tr th {\n",
       "        vertical-align: top;\n",
       "    }\n",
       "\n",
       "    .dataframe thead th {\n",
       "        text-align: right;\n",
       "    }\n",
       "</style>\n",
       "<table border=\"1\" class=\"dataframe\">\n",
       "  <thead>\n",
       "    <tr style=\"text-align: right;\">\n",
       "      <th></th>\n",
       "      <th>Region</th>\n",
       "      <th>Date</th>\n",
       "      <th>Frequency</th>\n",
       "      <th>Estimated Unemployment Rate (%)</th>\n",
       "      <th>Estimated Employed</th>\n",
       "      <th>Estimated Labour Participation Rate (%)</th>\n",
       "      <th>Area</th>\n",
       "    </tr>\n",
       "  </thead>\n",
       "  <tbody>\n",
       "    <tr>\n",
       "      <th>0</th>\n",
       "      <td>Andhra Pradesh</td>\n",
       "      <td>2019-05-31</td>\n",
       "      <td>Monthly</td>\n",
       "      <td>3.65</td>\n",
       "      <td>11999139.0</td>\n",
       "      <td>43.24</td>\n",
       "      <td>Rural</td>\n",
       "    </tr>\n",
       "    <tr>\n",
       "      <th>1</th>\n",
       "      <td>Andhra Pradesh</td>\n",
       "      <td>2019-06-30</td>\n",
       "      <td>Monthly</td>\n",
       "      <td>3.05</td>\n",
       "      <td>11755881.0</td>\n",
       "      <td>42.05</td>\n",
       "      <td>Rural</td>\n",
       "    </tr>\n",
       "    <tr>\n",
       "      <th>2</th>\n",
       "      <td>Andhra Pradesh</td>\n",
       "      <td>2019-07-31</td>\n",
       "      <td>Monthly</td>\n",
       "      <td>3.75</td>\n",
       "      <td>12086707.0</td>\n",
       "      <td>43.50</td>\n",
       "      <td>Rural</td>\n",
       "    </tr>\n",
       "    <tr>\n",
       "      <th>3</th>\n",
       "      <td>Andhra Pradesh</td>\n",
       "      <td>2019-08-31</td>\n",
       "      <td>Monthly</td>\n",
       "      <td>3.32</td>\n",
       "      <td>12285693.0</td>\n",
       "      <td>43.97</td>\n",
       "      <td>Rural</td>\n",
       "    </tr>\n",
       "    <tr>\n",
       "      <th>4</th>\n",
       "      <td>Andhra Pradesh</td>\n",
       "      <td>2019-09-30</td>\n",
       "      <td>Monthly</td>\n",
       "      <td>5.17</td>\n",
       "      <td>12256762.0</td>\n",
       "      <td>44.68</td>\n",
       "      <td>Rural</td>\n",
       "    </tr>\n",
       "  </tbody>\n",
       "</table>\n",
       "</div>"
      ],
      "text/plain": [
       "           Region       Date Frequency  Estimated Unemployment Rate (%)  \\\n",
       "0  Andhra Pradesh 2019-05-31   Monthly                             3.65   \n",
       "1  Andhra Pradesh 2019-06-30   Monthly                             3.05   \n",
       "2  Andhra Pradesh 2019-07-31   Monthly                             3.75   \n",
       "3  Andhra Pradesh 2019-08-31   Monthly                             3.32   \n",
       "4  Andhra Pradesh 2019-09-30   Monthly                             5.17   \n",
       "\n",
       "   Estimated Employed  Estimated Labour Participation Rate (%)   Area  \n",
       "0          11999139.0                                    43.24  Rural  \n",
       "1          11755881.0                                    42.05  Rural  \n",
       "2          12086707.0                                    43.50  Rural  \n",
       "3          12285693.0                                    43.97  Rural  \n",
       "4          12256762.0                                    44.68  Rural  "
      ]
     },
     "execution_count": 86,
     "metadata": {},
     "output_type": "execute_result"
    }
   ],
   "source": [
    "df.head()"
   ]
  },
  {
   "cell_type": "code",
   "execution_count": 87,
   "id": "24824b3d",
   "metadata": {},
   "outputs": [
    {
     "data": {
      "image/png": "[encoded data removed]",
      "text/plain": [
       "<Figure size 720x432 with 1 Axes>"
      ]
     },
     "metadata": {
      "needs_background": "light"
     },
     "output_type": "display_data"
    }
   ],
   "source": [
    "#distribution of the estimated labour participation rate over time\n",
    "plt.figure(figsize = (10,6))\n",
    "sns.lineplot(x=df[\"Date\"], y=df[\"Estimated Labour Participation Rate (%)\"], color =\"darkblue\");\n",
    "plt.title(\"distribution of the estimated labour participation rate over time\");"
   ]
  },
  {
   "cell_type": "code",
   "execution_count": 88,
   "id": "b69d9528",
   "metadata": {},
   "outputs": [
    {
     "data": {
      "text/plain": [
       "Region                                             object\n",
       "Date                                       datetime64[ns]\n",
       "Frequency                                          object\n",
       "Estimated Unemployment Rate (%)                   float64\n",
       "Estimated Employed                                float64\n",
       "Estimated Labour Participation Rate (%)           float64\n",
       "Area                                               object\n",
       "dtype: object"
      ]
     },
     "execution_count": 88,
     "metadata": {},
     "output_type": "execute_result"
    }
   ],
   "source": [
    "df.dtypes"
   ]
  },
  {
   "cell_type": "code",
   "execution_count": 89,
   "id": "d9a6288f",
   "metadata": {},
   "outputs": [
    {
     "data": {
      "text/html": [
       "<div>\n",
       "<style scoped>\n",
       "    .dataframe tbody tr th:only-of-type {\n",
       "        vertical-align: middle;\n",
       "    }\n",
       "\n",
       "    .dataframe tbody tr th {\n",
       "        vertical-align: top;\n",
       "    }\n",
       "\n",
       "    .dataframe thead th {\n",
       "        text-align: right;\n",
       "    }\n",
       "</style>\n",
       "<table border=\"1\" class=\"dataframe\">\n",
       "  <thead>\n",
       "    <tr style=\"text-align: right;\">\n",
       "      <th></th>\n",
       "      <th>Region</th>\n",
       "      <th>Date</th>\n",
       "      <th>Frequency</th>\n",
       "      <th>Estimated Unemployment Rate (%)</th>\n",
       "      <th>Estimated Employed</th>\n",
       "      <th>Estimated Labour Participation Rate (%)</th>\n",
       "      <th>Area</th>\n",
       "    </tr>\n",
       "  </thead>\n",
       "  <tbody>\n",
       "    <tr>\n",
       "      <th>0</th>\n",
       "      <td>0</td>\n",
       "      <td>2019-05-31</td>\n",
       "      <td>0</td>\n",
       "      <td>3.65</td>\n",
       "      <td>11999139.0</td>\n",
       "      <td>43.24</td>\n",
       "      <td>0</td>\n",
       "    </tr>\n",
       "    <tr>\n",
       "      <th>1</th>\n",
       "      <td>0</td>\n",
       "      <td>2019-06-30</td>\n",
       "      <td>0</td>\n",
       "      <td>3.05</td>\n",
       "      <td>11755881.0</td>\n",
       "      <td>42.05</td>\n",
       "      <td>0</td>\n",
       "    </tr>\n",
       "    <tr>\n",
       "      <th>2</th>\n",
       "      <td>0</td>\n",
       "      <td>2019-07-31</td>\n",
       "      <td>0</td>\n",
       "      <td>3.75</td>\n",
       "      <td>12086707.0</td>\n",
       "      <td>43.50</td>\n",
       "      <td>0</td>\n",
       "    </tr>\n",
       "    <tr>\n",
       "      <th>3</th>\n",
       "      <td>0</td>\n",
       "      <td>2019-08-31</td>\n",
       "      <td>0</td>\n",
       "      <td>3.32</td>\n",
       "      <td>12285693.0</td>\n",
       "      <td>43.97</td>\n",
       "      <td>0</td>\n",
       "    </tr>\n",
       "    <tr>\n",
       "      <th>4</th>\n",
       "      <td>0</td>\n",
       "      <td>2019-09-30</td>\n",
       "      <td>0</td>\n",
       "      <td>5.17</td>\n",
       "      <td>12256762.0</td>\n",
       "      <td>44.68</td>\n",
       "      <td>0</td>\n",
       "    </tr>\n",
       "    <tr>\n",
       "      <th>...</th>\n",
       "      <td>...</td>\n",
       "      <td>...</td>\n",
       "      <td>...</td>\n",
       "      <td>...</td>\n",
       "      <td>...</td>\n",
       "      <td>...</td>\n",
       "      <td>...</td>\n",
       "    </tr>\n",
       "    <tr>\n",
       "      <th>749</th>\n",
       "      <td>27</td>\n",
       "      <td>2020-02-29</td>\n",
       "      <td>1</td>\n",
       "      <td>7.55</td>\n",
       "      <td>10871168.0</td>\n",
       "      <td>44.09</td>\n",
       "      <td>1</td>\n",
       "    </tr>\n",
       "    <tr>\n",
       "      <th>750</th>\n",
       "      <td>27</td>\n",
       "      <td>2020-03-31</td>\n",
       "      <td>1</td>\n",
       "      <td>6.67</td>\n",
       "      <td>10806105.0</td>\n",
       "      <td>43.34</td>\n",
       "      <td>1</td>\n",
       "    </tr>\n",
       "    <tr>\n",
       "      <th>751</th>\n",
       "      <td>27</td>\n",
       "      <td>2020-04-30</td>\n",
       "      <td>1</td>\n",
       "      <td>15.63</td>\n",
       "      <td>9299466.0</td>\n",
       "      <td>41.20</td>\n",
       "      <td>1</td>\n",
       "    </tr>\n",
       "    <tr>\n",
       "      <th>752</th>\n",
       "      <td>27</td>\n",
       "      <td>2020-05-31</td>\n",
       "      <td>1</td>\n",
       "      <td>15.22</td>\n",
       "      <td>9240903.0</td>\n",
       "      <td>40.67</td>\n",
       "      <td>1</td>\n",
       "    </tr>\n",
       "    <tr>\n",
       "      <th>753</th>\n",
       "      <td>27</td>\n",
       "      <td>2020-06-30</td>\n",
       "      <td>1</td>\n",
       "      <td>9.86</td>\n",
       "      <td>9088931.0</td>\n",
       "      <td>37.57</td>\n",
       "      <td>1</td>\n",
       "    </tr>\n",
       "  </tbody>\n",
       "</table>\n",
       "<p>754 rows × 7 columns</p>\n",
       "</div>"
      ],
      "text/plain": [
       "     Region       Date  Frequency  Estimated Unemployment Rate (%)  \\\n",
       "0         0 2019-05-31          0                             3.65   \n",
       "1         0 2019-06-30          0                             3.05   \n",
       "2         0 2019-07-31          0                             3.75   \n",
       "3         0 2019-08-31          0                             3.32   \n",
       "4         0 2019-09-30          0                             5.17   \n",
       "..      ...        ...        ...                              ...   \n",
       "749      27 2020-02-29          1                             7.55   \n",
       "750      27 2020-03-31          1                             6.67   \n",
       "751      27 2020-04-30          1                            15.63   \n",
       "752      27 2020-05-31          1                            15.22   \n",
       "753      27 2020-06-30          1                             9.86   \n",
       "\n",
       "     Estimated Employed  Estimated Labour Participation Rate (%)  Area  \n",
       "0            11999139.0                                    43.24     0  \n",
       "1            11755881.0                                    42.05     0  \n",
       "2            12086707.0                                    43.50     0  \n",
       "3            12285693.0                                    43.97     0  \n",
       "4            12256762.0                                    44.68     0  \n",
       "..                  ...                                      ...   ...  \n",
       "749          10871168.0                                    44.09     1  \n",
       "750          10806105.0                                    43.34     1  \n",
       "751           9299466.0                                    41.20     1  \n",
       "752           9240903.0                                    40.67     1  \n",
       "753           9088931.0                                    37.57     1  \n",
       "\n",
       "[754 rows x 7 columns]"
      ]
     },
     "execution_count": 89,
     "metadata": {},
     "output_type": "execute_result"
    }
   ],
   "source": [
    "#convert all the non numeric columns to numeric ones\n",
    "from sklearn.preprocessing import LabelEncoder\n",
    "label_encoder = LabelEncoder()\n",
    "\n",
    "# Convert categorical variables using Label Encoding\n",
    "label_encoder = LabelEncoder()\n",
    "categorical_cols = [\"Region\",\"Frequency\",\"Area\"]\n",
    "for col in categorical_cols:\n",
    "    df[col] = label_encoder.fit_transform(df[col])\n",
    "df"
   ]
  },
  {
   "cell_type": "code",
   "execution_count": 90,
   "id": "e9b86c77",
   "metadata": {},
   "outputs": [
    {
     "data": {
      "image/png": "[encoded data removed]",
      "text/plain": [
       "<Figure size 1440x1296 with 6 Axes>"
      ]
     },
     "metadata": {
      "needs_background": "light"
     },
     "output_type": "display_data"
    }
   ],
   "source": [
    "#check for outliers\n",
    "plt.figure(figsize = (20,18))\n",
    "\n",
    "plt.subplot(4,4,1)\n",
    "sns.boxplot(data =df['Region'])\n",
    "plt.title(\"region\")\n",
    "\n",
    "plt.subplot(4,4,2)\n",
    "sns.boxplot(data = df[\"Frequency\"])\n",
    "plt.title(\"frequency\")\n",
    "\n",
    "plt.subplot(4,4,3)\n",
    "sns.boxplot(data = df[\"Estimated Unemployment Rate (%)\"])\n",
    "plt.title(\"estimated unemployement rate (%)\")\n",
    "\n",
    "plt.subplot(4,4,4)\n",
    "sns.boxplot(data = df[\"Estimated Employed\"])\n",
    "plt.title(\"estimated employed\")\n",
    "\n",
    "plt.subplot(4,4,5)\n",
    "sns.boxplot(data = df[\"Estimated Labour Participation Rate (%)\"])\n",
    "plt.title(\"estimated labour participation rate\")\n",
    "\n",
    "plt.subplot(4,4,6)\n",
    "sns.boxplot(data = df[\"Area\"])\n",
    "plt.title(\"area\");"
   ]
  },
  {
   "cell_type": "code",
   "execution_count": 95,
   "id": "42be9bac",
   "metadata": {},
   "outputs": [],
   "source": [
    "#set date as the index column\n",
    "df.set_index('Date', inplace=True)"
   ]
  },
  {
   "cell_type": "markdown",
   "id": "164266d7",
   "metadata": {},
   "source": [
    "### It is observed that columns like \"estimated unemployement rate (%)\", \"estimated employed\" and \"estimated labour participation rate\" have some outliers present. \n",
    "We will now treat these outliers with IQR (inter quartile range)"
   ]
  },
  {
   "cell_type": "code",
   "execution_count": 96,
   "id": "1de1a257",
   "metadata": {},
   "outputs": [],
   "source": [
    "df[\"Estimated Unemployment Rate (%)\"] = df[\"Estimated Unemployment Rate (%)\"].clip(lower = df[\"Estimated Unemployment Rate (%)\"].quantile(0.05),upper = df[\"Estimated Unemployment Rate (%)\"].quantile(0.95))\n",
    "\n",
    "df[\"Estimated Labour Participation Rate (%)\"] = df[\"Estimated Labour Participation Rate (%)\"].clip(lower = df[\"Estimated Labour Participation Rate (%)\"].quantile(0.07),upper = df[\"Estimated Labour Participation Rate (%)\"].quantile(0.93))\n",
    "\n",
    "df[\"Estimated Employed\"] = df[\"Estimated Employed\"].clip(lower=df[\"Estimated Employed\"].quantile(0.07), upper=df[\"Estimated Employed\"].quantile(0.93))"
   ]
  },
  {
   "cell_type": "code",
   "execution_count": 97,
   "id": "60049078",
   "metadata": {},
   "outputs": [
    {
     "data": {
      "image/png": "[encoded data removed]",
      "text/plain": [
       "<Figure size 1440x1296 with 3 Axes>"
      ]
     },
     "metadata": {
      "needs_background": "light"
     },
     "output_type": "display_data"
    }
   ],
   "source": [
    "plt.figure(figsize = (20,18))\n",
    "\n",
    "plt.subplot(2,2,1)\n",
    "sns.boxplot(data = df[\"Estimated Unemployment Rate (%)\"])\n",
    "plt.title(\"estimated unemployement rate (%)\")\n",
    "\n",
    "plt.subplot(2,2,2)\n",
    "sns.boxplot(data = df[\"Estimated Employed\"])\n",
    "plt.title(\"estimated employed\")\n",
    "\n",
    "plt.subplot(2,2,3)\n",
    "sns.boxplot(data = df[\"Estimated Labour Participation Rate (%)\"])\n",
    "plt.title(\"estimated labour participation rate\");"
   ]
  },
  {
   "cell_type": "markdown",
   "id": "a140bae9",
   "metadata": {},
   "source": [
    "### The outliers have been removed now."
   ]
  },
  {
   "cell_type": "markdown",
   "id": "b02ad1d7",
   "metadata": {},
   "source": [
    "## Modelling"
   ]
  },
  {
   "cell_type": "code",
   "execution_count": 98,
   "id": "8986c4ea",
   "metadata": {},
   "outputs": [
    {
     "data": {
      "text/plain": [
       "(603, 151, 603, 151)"
      ]
     },
     "execution_count": 98,
     "metadata": {},
     "output_type": "execute_result"
    }
   ],
   "source": [
    "#split the data into x and y features\n",
    "x = df.drop([\"Estimated Unemployment Rate (%)\"], axis =1)\n",
    "y = df[\"Estimated Unemployment Rate (%)\"]\n",
    "\n",
    "#split the data into train and test splits now\n",
    "x_train,x_test, y_train, y_test = train_test_split(x,y,test_size=0.2, random_state=42)\n",
    "len(x_train),len(x_test), len(y_train), len(y_test)"
   ]
  },
  {
   "cell_type": "markdown",
   "id": "ca49bf0d",
   "metadata": {},
   "source": [
    "### 1. Random Forest Regressor model"
   ]
  },
  {
   "cell_type": "code",
   "execution_count": 99,
   "id": "6cb3cfa4",
   "metadata": {},
   "outputs": [
    {
     "data": {
      "text/plain": [
       "0.5456746310941875"
      ]
     },
     "execution_count": 99,
     "metadata": {},
     "output_type": "execute_result"
    }
   ],
   "source": [
    "#instantiate the model\n",
    "model = RandomForestRegressor(random_state=42, n_estimators = 100)\n",
    "\n",
    "#fit the model to the train data\n",
    "model.fit(x_train,y_train)\n",
    "#score it on the test data\n",
    "model.score(x_test,y_test)"
   ]
  },
  {
   "cell_type": "markdown",
   "id": "75171f5d",
   "metadata": {},
   "source": [
    "### We are getting a score of 54% around, it can be improved with hyperparameter tuning.."
   ]
  },
  {
   "cell_type": "code",
   "execution_count": 102,
   "id": "75ae431a",
   "metadata": {},
   "outputs": [],
   "source": [
    "#predictions\n",
    "y_preds = model.predict(x_test)\n",
    "#evaluations \n",
    "mae = mean_absolute_error(y_test,y_preds)\n",
    "mse = mean_squared_error(y_test,y_preds)\n",
    "mape = mean_absolute_percentage_error(y_test,y_preds)\n",
    "rmse = np.sqrt(mse)"
   ]
  },
  {
   "cell_type": "code",
   "execution_count": 103,
   "id": "f6746450",
   "metadata": {},
   "outputs": [
    {
     "name": "stdout",
     "output_type": "stream",
     "text": [
      "Random forest regression metrics:\n",
      "Mean Absolute Error: 3.045478256622518\n",
      "Mean Squared Error: 27.14059354287554\n",
      "Root Mean Squared Error: 5.209663476931647\n",
      "Absolute Percentage Error: 0.45772580419225456\n"
     ]
    }
   ],
   "source": [
    "print(\"Random forest regression metrics:\")\n",
    "print(\"Mean Absolute Error:\",mae)\n",
    "print(\"Mean Squared Error:\",mse)\n",
    "print(\"Root Mean Squared Error:\",rmse)\n",
    "print(\"Absolute Percentage Error:\",mape)"
   ]
  },
  {
   "cell_type": "markdown",
   "id": "3997d7fe",
   "metadata": {},
   "source": [
    "### Hyperparameter tuning - let's tune our model further and try to improve it's score."
   ]
  },
  {
   "cell_type": "code",
   "execution_count": 104,
   "id": "75f5c38e",
   "metadata": {},
   "outputs": [],
   "source": [
    "param_grid = {\n",
    "    'n_estimators': [50, 100],  # Number of trees in the forest\n",
    "    'max_depth': [None, 10],  # Maximum depth of the tree\n",
    "    'min_samples_split': [2, 5],  # Minimum number of samples required to split a node\n",
    "    'min_samples_leaf': [1, 2],  # Minimum number of samples required at each leaf node\n",
    "}\n"
   ]
  },
  {
   "cell_type": "code",
   "execution_count": 105,
   "id": "6454d81d",
   "metadata": {},
   "outputs": [
    {
     "name": "stdout",
     "output_type": "stream",
     "text": [
      "Best Parameters: {'max_depth': 10, 'min_samples_leaf': 2, 'min_samples_split': 2, 'n_estimators': 100}\n"
     ]
    }
   ],
   "source": [
    "from sklearn.model_selection import GridSearchCV\n",
    "\n",
    "# Define the Random Forest Regressor\n",
    "rf = RandomForestRegressor()\n",
    "\n",
    "# Create the GridSearchCV object\n",
    "grid_search = GridSearchCV(estimator=rf, param_grid=param_grid, cv=5, scoring='r2', n_jobs=-1)\n",
    "\n",
    "# Fit the grid search to the data\n",
    "grid_search.fit(x_train, y_train)  # X_train and y_train are your training data\n",
    "\n",
    "# Print the best parameters found\n",
    "print(\"Best Parameters:\", grid_search.best_params_)"
   ]
  },
  {
   "cell_type": "code",
   "execution_count": 106,
   "id": "6a18c37c",
   "metadata": {},
   "outputs": [
    {
     "data": {
      "text/plain": [
       "0.5524793262098757"
      ]
     },
     "execution_count": 106,
     "metadata": {},
     "output_type": "execute_result"
    }
   ],
   "source": [
    "#now let's create an ideal model using these paramters and check for improvement\n",
    "ideal_model = RandomForestRegressor(max_depth=None, min_samples_leaf=2, min_samples_split=2, n_estimators =200)\n",
    "\n",
    "#fit it to the train data\n",
    "ideal_model.fit(x_train,y_train)\n",
    "#score on the test data\n",
    "ideal_model.score(x_test,y_test)"
   ]
  },
  {
   "cell_type": "code",
   "execution_count": 107,
   "id": "577c4f16",
   "metadata": {},
   "outputs": [],
   "source": [
    "#prediction\n",
    "ideal_preds = ideal_model.predict(x_test)\n",
    "mae_1 = mean_absolute_error(y_test,ideal_preds)\n",
    "mse_1 = mean_squared_error(y_test,ideal_preds)\n",
    "mape_1 = mean_absolute_percentage_error(y_test,ideal_preds)\n",
    "rmse_1 = np.sqrt(mse_1)"
   ]
  },
  {
   "cell_type": "code",
   "execution_count": 108,
   "id": "0cce5dc1",
   "metadata": {},
   "outputs": [
    {
     "name": "stdout",
     "output_type": "stream",
     "text": [
      "Random forest regression metrics:\n",
      "Mean Absolute Error: 3.0693784555804187\n",
      "Mean Squared Error: 26.73409309857309\n",
      "Root Mean Squared Error: 5.170502209512446\n",
      "Absolute Percentage Error: 0.4797107689121616\n"
     ]
    }
   ],
   "source": [
    "print(\"Random forest regression metrics:\")\n",
    "print(\"Mean Absolute Error:\",mae_1)\n",
    "print(\"Mean Squared Error:\",mse_1)\n",
    "print(\"Root Mean Squared Error:\",rmse_1)\n",
    "print(\"Absolute Percentage Error:\",mape_1)"
   ]
  },
  {
   "cell_type": "markdown",
   "id": "9a84400d",
   "metadata": {},
   "source": [
    "### Observations :\n",
    "1.Mean Absolute Error (MAE): The MAE measures the average absolute difference between the predicted and actual values. After hyperparameter tuning, the MAE decreased slightly, indicating that, on average, the model's predictions are closer to the actual values.\n",
    "\n",
    "2.Mean Squared Error (MSE): The MSE measures the average squared difference between the predicted and actual values. Similar to MAE, the MSE decreased after hyperparameter tuning, indicating a reduction in prediction errors.\n",
    "\n",
    "3.Root Mean Squared Error (RMSE): The RMSE is the square root of the MSE and provides a measure of the spread of prediction errors. The decrease in RMSE after hyperparameter tuning suggests improved model accuracy.\n",
    "\n",
    "4.Absolute Percentage Error (APE): The APE measures the percentage difference between the predicted and actual values. After hyperparameter tuning, the APE increased slightly, indicating that the model's predictions are, on average, slightly further away from the actual values in percentage terms.\n"
   ]
  },
  {
   "cell_type": "markdown",
   "id": "5349a00b",
   "metadata": {},
   "source": [
    "### The r2 score also has slightly improved,indicating that the model's ability to explain the variance in the target variable improved."
   ]
  },
  {
   "cell_type": "code",
   "execution_count": null,
   "id": "717c5fb9",
   "metadata": {},
   "outputs": [],
   "source": []
  }
 ],
 "metadata": {
  "kernelspec": {
   "display_name": "Python 3 (ipykernel)",
   "language": "python",
   "name": "python3"
  },
  "language_info": {
   "codemirror_mode": {
    "name": "ipython",
    "version": 3
   },
   "file_extension": ".py",
   "mimetype": "text/x-python",
   "name": "python",
   "nbconvert_exporter": "python",
   "pygments_lexer": "ipython3",
   "version": "3.9.7"
  }
 },
 "nbformat": 4,
 "nbformat_minor": 5
}
